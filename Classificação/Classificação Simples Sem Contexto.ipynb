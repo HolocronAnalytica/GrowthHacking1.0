{
 "cells": [
  {
   "cell_type": "code",
   "execution_count": 40,
   "metadata": {},
   "outputs": [],
   "source": [
    "import pandas as pd\n",
    "from sklearn.model_selection import train_test_split\n",
    "from sklearn.metrics import classification_report\n",
    "from sklearn.linear_model import LogisticRegression\n",
    "from sklearn.tree import DecisionTreeClassifier\n",
    "from sklearn.ensemble import RandomForestClassifier"
   ]
  },
  {
   "cell_type": "code",
   "execution_count": 41,
   "metadata": {},
   "outputs": [],
   "source": [
    "df = pd.read_csv(\"dummy_classifier.csv\")"
   ]
  },
  {
   "cell_type": "code",
   "execution_count": 42,
   "metadata": {},
   "outputs": [],
   "source": [
    "#Configurando options do pandas para visualização\n",
    "pd.set_option('display.max_columns', 500)"
   ]
  },
  {
   "cell_type": "code",
   "execution_count": 43,
   "metadata": {},
   "outputs": [
    {
     "data": {
      "text/html": [
       "<div>\n",
       "<style scoped>\n",
       "    .dataframe tbody tr th:only-of-type {\n",
       "        vertical-align: middle;\n",
       "    }\n",
       "\n",
       "    .dataframe tbody tr th {\n",
       "        vertical-align: top;\n",
       "    }\n",
       "\n",
       "    .dataframe thead th {\n",
       "        text-align: right;\n",
       "    }\n",
       "</style>\n",
       "<table border=\"1\" class=\"dataframe\">\n",
       "  <thead>\n",
       "    <tr style=\"text-align: right;\">\n",
       "      <th></th>\n",
       "      <th>0</th>\n",
       "      <th>1</th>\n",
       "      <th>2</th>\n",
       "      <th>3</th>\n",
       "      <th>4</th>\n",
       "      <th>5</th>\n",
       "      <th>6</th>\n",
       "      <th>7</th>\n",
       "      <th>8</th>\n",
       "      <th>9</th>\n",
       "      <th>10</th>\n",
       "    </tr>\n",
       "  </thead>\n",
       "  <tbody>\n",
       "    <tr>\n",
       "      <td>count</td>\n",
       "      <td>100000.000000</td>\n",
       "      <td>100000.000000</td>\n",
       "      <td>100000.000000</td>\n",
       "      <td>100000.000000</td>\n",
       "      <td>100000.000000</td>\n",
       "      <td>100000.000000</td>\n",
       "      <td>100000.000000</td>\n",
       "      <td>100000.000000</td>\n",
       "      <td>100000.000000</td>\n",
       "      <td>100000.000000</td>\n",
       "      <td>100000.000000</td>\n",
       "    </tr>\n",
       "    <tr>\n",
       "      <td>mean</td>\n",
       "      <td>-0.003743</td>\n",
       "      <td>-0.001014</td>\n",
       "      <td>0.001999</td>\n",
       "      <td>-0.004118</td>\n",
       "      <td>0.003417</td>\n",
       "      <td>0.000189</td>\n",
       "      <td>-0.006234</td>\n",
       "      <td>-0.000033</td>\n",
       "      <td>-0.001269</td>\n",
       "      <td>-0.006136</td>\n",
       "      <td>0.499160</td>\n",
       "    </tr>\n",
       "    <tr>\n",
       "      <td>std</td>\n",
       "      <td>0.997370</td>\n",
       "      <td>0.999418</td>\n",
       "      <td>1.142076</td>\n",
       "      <td>1.232053</td>\n",
       "      <td>1.121812</td>\n",
       "      <td>0.999896</td>\n",
       "      <td>0.996697</td>\n",
       "      <td>1.003122</td>\n",
       "      <td>1.419729</td>\n",
       "      <td>1.000254</td>\n",
       "      <td>0.500002</td>\n",
       "    </tr>\n",
       "    <tr>\n",
       "      <td>min</td>\n",
       "      <td>-3.974071</td>\n",
       "      <td>-4.100143</td>\n",
       "      <td>-4.479927</td>\n",
       "      <td>-5.296495</td>\n",
       "      <td>-5.576663</td>\n",
       "      <td>-4.427324</td>\n",
       "      <td>-4.374059</td>\n",
       "      <td>-4.413530</td>\n",
       "      <td>-5.259380</td>\n",
       "      <td>-4.288019</td>\n",
       "      <td>0.000000</td>\n",
       "    </tr>\n",
       "    <tr>\n",
       "      <td>25%</td>\n",
       "      <td>-0.679340</td>\n",
       "      <td>-0.675882</td>\n",
       "      <td>-0.845953</td>\n",
       "      <td>-1.005787</td>\n",
       "      <td>-0.820846</td>\n",
       "      <td>-0.673341</td>\n",
       "      <td>-0.684760</td>\n",
       "      <td>-0.675454</td>\n",
       "      <td>-0.982713</td>\n",
       "      <td>-0.683319</td>\n",
       "      <td>0.000000</td>\n",
       "    </tr>\n",
       "    <tr>\n",
       "      <td>50%</td>\n",
       "      <td>0.000097</td>\n",
       "      <td>-0.000109</td>\n",
       "      <td>0.049964</td>\n",
       "      <td>-0.107243</td>\n",
       "      <td>0.199105</td>\n",
       "      <td>0.000445</td>\n",
       "      <td>-0.007576</td>\n",
       "      <td>-0.003183</td>\n",
       "      <td>0.053173</td>\n",
       "      <td>-0.008168</td>\n",
       "      <td>0.000000</td>\n",
       "    </tr>\n",
       "    <tr>\n",
       "      <td>75%</td>\n",
       "      <td>0.667992</td>\n",
       "      <td>0.668436</td>\n",
       "      <td>0.843351</td>\n",
       "      <td>0.767612</td>\n",
       "      <td>0.847817</td>\n",
       "      <td>0.674890</td>\n",
       "      <td>0.668130</td>\n",
       "      <td>0.674857</td>\n",
       "      <td>1.114381</td>\n",
       "      <td>0.671837</td>\n",
       "      <td>1.000000</td>\n",
       "    </tr>\n",
       "    <tr>\n",
       "      <td>max</td>\n",
       "      <td>4.173364</td>\n",
       "      <td>4.701476</td>\n",
       "      <td>5.048701</td>\n",
       "      <td>6.396706</td>\n",
       "      <td>4.013653</td>\n",
       "      <td>4.424013</td>\n",
       "      <td>5.487006</td>\n",
       "      <td>4.682031</td>\n",
       "      <td>5.178021</td>\n",
       "      <td>4.536913</td>\n",
       "      <td>1.000000</td>\n",
       "    </tr>\n",
       "  </tbody>\n",
       "</table>\n",
       "</div>"
      ],
      "text/plain": [
       "                   0              1              2              3  \\\n",
       "count  100000.000000  100000.000000  100000.000000  100000.000000   \n",
       "mean       -0.003743      -0.001014       0.001999      -0.004118   \n",
       "std         0.997370       0.999418       1.142076       1.232053   \n",
       "min        -3.974071      -4.100143      -4.479927      -5.296495   \n",
       "25%        -0.679340      -0.675882      -0.845953      -1.005787   \n",
       "50%         0.000097      -0.000109       0.049964      -0.107243   \n",
       "75%         0.667992       0.668436       0.843351       0.767612   \n",
       "max         4.173364       4.701476       5.048701       6.396706   \n",
       "\n",
       "                   4              5              6              7  \\\n",
       "count  100000.000000  100000.000000  100000.000000  100000.000000   \n",
       "mean        0.003417       0.000189      -0.006234      -0.000033   \n",
       "std         1.121812       0.999896       0.996697       1.003122   \n",
       "min        -5.576663      -4.427324      -4.374059      -4.413530   \n",
       "25%        -0.820846      -0.673341      -0.684760      -0.675454   \n",
       "50%         0.199105       0.000445      -0.007576      -0.003183   \n",
       "75%         0.847817       0.674890       0.668130       0.674857   \n",
       "max         4.013653       4.424013       5.487006       4.682031   \n",
       "\n",
       "                   8              9             10  \n",
       "count  100000.000000  100000.000000  100000.000000  \n",
       "mean       -0.001269      -0.006136       0.499160  \n",
       "std         1.419729       1.000254       0.500002  \n",
       "min        -5.259380      -4.288019       0.000000  \n",
       "25%        -0.982713      -0.683319       0.000000  \n",
       "50%         0.053173      -0.008168       0.000000  \n",
       "75%         1.114381       0.671837       1.000000  \n",
       "max         5.178021       4.536913       1.000000  "
      ]
     },
     "execution_count": 43,
     "metadata": {},
     "output_type": "execute_result"
    }
   ],
   "source": [
    "#Vamos comecar olhando descritivas da base, vamos notar que se trata de um dado complexo, com pouco contexto\n",
    "#Esse tipo de dado é complexo para uma pessoa observar e encontrar padrões, por isso modelamos a informação\n",
    "df.describe()"
   ]
  },
  {
   "cell_type": "code",
   "execution_count": 45,
   "metadata": {},
   "outputs": [
    {
     "data": {
      "text/plain": [
       "0.0    50084\n",
       "1.0    49916\n",
       "Name: 10, dtype: int64"
      ]
     },
     "execution_count": 45,
     "metadata": {},
     "output_type": "execute_result"
    }
   ],
   "source": [
    "#Baseado na descrição acima, percebemos que a coluna 10 é a unica que contém valores binários (0 ou 1)\n",
    "#Sendo assim ela provavelmente representa nossa target - ou variável resposta\n",
    "df[\"10\"].value_counts()"
   ]
  },
  {
   "cell_type": "code",
   "execution_count": 47,
   "metadata": {},
   "outputs": [],
   "source": [
    "#Vamos dividir nossos dados em dois conjuntos: Treino e Test\n",
    "#Esse processo é importante para validarmos o processo de modelagem: Devemos medir as métricas do modelo \n",
    "#treinado no conjunto de treino utilizando o conjunto de teste, pois são dados nunca vistos e simularia uma \n",
    "#aplicação na vida real\n",
    "X_train, X_test, y_train, y_test = train_test_split(df.drop([\"10\"],axis=1), #Removemos a target do conjunto de Treino\n",
    "                                                   df[\"10\"],# Target\n",
    "                                                   test_size = 0.2 #Costumamos usar regras simples, como 80% treino e 20% teste\n",
    "                                                   )"
   ]
  },
  {
   "cell_type": "code",
   "execution_count": 48,
   "metadata": {},
   "outputs": [
    {
     "name": "stdout",
     "output_type": "stream",
     "text": [
      "(80000, 10) (80000,) (20000, 10) (20000,)\n"
     ]
    }
   ],
   "source": [
    "print(X_train.shape, y_train.shape, X_test.shape, y_test.shape)"
   ]
  },
  {
   "cell_type": "code",
   "execution_count": 49,
   "metadata": {},
   "outputs": [
    {
     "name": "stderr",
     "output_type": "stream",
     "text": [
      "/opt/anaconda3/lib/python3.7/site-packages/sklearn/linear_model/logistic.py:432: FutureWarning: Default solver will be changed to 'lbfgs' in 0.22. Specify a solver to silence this warning.\n",
      "  FutureWarning)\n"
     ]
    }
   ],
   "source": [
    "#Modelo simples utilizando Regressão Logistica\n",
    "lr = LogisticRegression()\n",
    "lr.fit(X_train,y_train) #Treina o modelo\n",
    "\n",
    "#Prediz a classe de cada amostra de acordo com o modelo treinado (lr) utilizando o conjunto de TESTE\n",
    "test_performance = lr.predict(X_test)"
   ]
  },
  {
   "cell_type": "code",
   "execution_count": 50,
   "metadata": {},
   "outputs": [
    {
     "data": {
      "text/plain": [
       "LogisticRegression(C=1.0, class_weight=None, dual=False, fit_intercept=True,\n",
       "                   intercept_scaling=1, l1_ratio=None, max_iter=100,\n",
       "                   multi_class='warn', n_jobs=None, penalty='l2',\n",
       "                   random_state=None, solver='warn', tol=0.0001, verbose=0,\n",
       "                   warm_start=False)"
      ]
     },
     "execution_count": 50,
     "metadata": {},
     "output_type": "execute_result"
    }
   ],
   "source": [
    "lr"
   ]
  },
  {
   "cell_type": "code",
   "execution_count": 51,
   "metadata": {},
   "outputs": [
    {
     "name": "stdout",
     "output_type": "stream",
     "text": [
      "              precision    recall  f1-score   support\n",
      "\n",
      "         0.0       0.79      0.73      0.76      9964\n",
      "         1.0       0.75      0.80      0.78     10036\n",
      "\n",
      "    accuracy                           0.77     20000\n",
      "   macro avg       0.77      0.77      0.77     20000\n",
      "weighted avg       0.77      0.77      0.77     20000\n",
      "\n"
     ]
    }
   ],
   "source": [
    "#Reporta métricas de Precision, Recall, F1-score e Acurácia\n",
    "#A coluna support indica a quantidade de amostras em cada métrica\n",
    "#É interessante observamos sempre as métricas da linha 1.0, pois temos interesse em classificar positivos.\n",
    "print(classification_report(y_test, test_performance)) "
   ]
  },
  {
   "cell_type": "code",
   "execution_count": 52,
   "metadata": {},
   "outputs": [],
   "source": [
    "#Modelo de Árvore - A interface do sklearn permite com que os comandos sejam muito semelhantes entre os diferentes\n",
    "#tipos de modelo.\n",
    "tree = DecisionTreeClassifier()\n",
    "tree.fit(X_train,y_train)\n",
    "\n",
    "test_performance = tree.predict(X_test)"
   ]
  },
  {
   "cell_type": "code",
   "execution_count": 53,
   "metadata": {},
   "outputs": [
    {
     "data": {
      "text/plain": [
       "DecisionTreeClassifier(class_weight=None, criterion='gini', max_depth=None,\n",
       "                       max_features=None, max_leaf_nodes=None,\n",
       "                       min_impurity_decrease=0.0, min_impurity_split=None,\n",
       "                       min_samples_leaf=1, min_samples_split=2,\n",
       "                       min_weight_fraction_leaf=0.0, presort=False,\n",
       "                       random_state=None, splitter='best')"
      ]
     },
     "execution_count": 53,
     "metadata": {},
     "output_type": "execute_result"
    }
   ],
   "source": [
    "tree"
   ]
  },
  {
   "cell_type": "code",
   "execution_count": 54,
   "metadata": {},
   "outputs": [
    {
     "name": "stdout",
     "output_type": "stream",
     "text": [
      "              precision    recall  f1-score   support\n",
      "\n",
      "         0.0       0.69      0.70      0.70      9964\n",
      "         1.0       0.70      0.69      0.70     10036\n",
      "\n",
      "    accuracy                           0.70     20000\n",
      "   macro avg       0.70      0.70      0.70     20000\n",
      "weighted avg       0.70      0.70      0.70     20000\n",
      "\n"
     ]
    }
   ],
   "source": [
    "print(classification_report(y_test, test_performance)) "
   ]
  },
  {
   "cell_type": "code",
   "execution_count": 55,
   "metadata": {},
   "outputs": [
    {
     "name": "stderr",
     "output_type": "stream",
     "text": [
      "/opt/anaconda3/lib/python3.7/site-packages/sklearn/ensemble/forest.py:245: FutureWarning: The default value of n_estimators will change from 10 in version 0.20 to 100 in 0.22.\n",
      "  \"10 in version 0.20 to 100 in 0.22.\", FutureWarning)\n"
     ]
    }
   ],
   "source": [
    "#Ensemble\n",
    "rf = RandomForestClassifier()\n",
    "rf.fit(X_train,y_train)\n",
    "\n",
    "test_performance = rf.predict(X_test)"
   ]
  },
  {
   "cell_type": "code",
   "execution_count": 56,
   "metadata": {},
   "outputs": [
    {
     "data": {
      "text/plain": [
       "RandomForestClassifier(bootstrap=True, class_weight=None, criterion='gini',\n",
       "                       max_depth=None, max_features='auto', max_leaf_nodes=None,\n",
       "                       min_impurity_decrease=0.0, min_impurity_split=None,\n",
       "                       min_samples_leaf=1, min_samples_split=2,\n",
       "                       min_weight_fraction_leaf=0.0, n_estimators=10,\n",
       "                       n_jobs=None, oob_score=False, random_state=None,\n",
       "                       verbose=0, warm_start=False)"
      ]
     },
     "execution_count": 56,
     "metadata": {},
     "output_type": "execute_result"
    }
   ],
   "source": [
    "rf"
   ]
  },
  {
   "cell_type": "code",
   "execution_count": 57,
   "metadata": {},
   "outputs": [
    {
     "name": "stdout",
     "output_type": "stream",
     "text": [
      "              precision    recall  f1-score   support\n",
      "\n",
      "         0.0       0.77      0.82      0.79      9964\n",
      "         1.0       0.81      0.76      0.78     10036\n",
      "\n",
      "    accuracy                           0.79     20000\n",
      "   macro avg       0.79      0.79      0.79     20000\n",
      "weighted avg       0.79      0.79      0.79     20000\n",
      "\n"
     ]
    }
   ],
   "source": [
    "print(classification_report(y_test, test_performance)) "
   ]
  },
  {
   "cell_type": "code",
   "execution_count": null,
   "metadata": {},
   "outputs": [],
   "source": []
  }
 ],
 "metadata": {
  "kernelspec": {
   "display_name": "Python 3",
   "language": "python",
   "name": "python3"
  },
  "language_info": {
   "codemirror_mode": {
    "name": "ipython",
    "version": 3
   },
   "file_extension": ".py",
   "mimetype": "text/x-python",
   "name": "python",
   "nbconvert_exporter": "python",
   "pygments_lexer": "ipython3",
   "version": "3.7.4"
  }
 },
 "nbformat": 4,
 "nbformat_minor": 2
}
