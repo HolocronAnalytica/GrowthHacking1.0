{
 "cells": [
  {
   "cell_type": "code",
   "execution_count": 1,
   "metadata": {},
   "outputs": [],
   "source": [
    "from sklearn.datasets import make_blobs\n",
    "import pandas as pd\n",
    "import numpy as np\n",
    "import random\n",
    "from random import randint"
   ]
  },
  {
   "cell_type": "code",
   "execution_count": 2,
   "metadata": {},
   "outputs": [],
   "source": [
    "age_detrator = np.random.normal(25, 15, 10000)\n",
    "age_neutro = np.random.normal(37, 3, 10000)\n",
    "age_promotor = np.random.normal(50, 3, 10000)"
   ]
  },
  {
   "cell_type": "code",
   "execution_count": 3,
   "metadata": {},
   "outputs": [],
   "source": [
    "salary_detrator = np.random.normal(5000, 500, 10000)\n",
    "salary_neutro = np.random.normal(5000, 500, 10000)\n",
    "salary_promotor = np.random.normal(5000, 500, 10000)"
   ]
  },
  {
   "cell_type": "code",
   "execution_count": 4,
   "metadata": {},
   "outputs": [],
   "source": [
    "num_reclama_sac_detrator = [randint(0, 9) for p in range(0, 10000)]\n",
    "num_reclama_sac_neutro = [randint(0, 5) for p in range(0, 10000)]\n",
    "num_reclama_sac_promotor = [randint(0, 2) for p in range(0, 10000)]"
   ]
  },
  {
   "cell_type": "code",
   "execution_count": 5,
   "metadata": {},
   "outputs": [],
   "source": [
    "nota_detrator = [randint(0, 7) for p in range(0, 10000)]\n",
    "nota_neutro = [randint(7, 8) for p in range(0, 10000)]\n",
    "nota_promotor = [randint(9, 10) for p in range(0, 10000)]"
   ]
  },
  {
   "cell_type": "code",
   "execution_count": 6,
   "metadata": {},
   "outputs": [],
   "source": [
    "promotor_df = pd.DataFrame().from_dict({ \"age\":age_promotor,\n",
    "                                     \"salary\":salary_promotor,\n",
    "                                     \"num_reclama_sac\": num_reclama_sac_promotor,\n",
    "                                     \"nota\":nota_promotor\n",
    "                                    })"
   ]
  },
  {
   "cell_type": "code",
   "execution_count": 7,
   "metadata": {},
   "outputs": [],
   "source": [
    "neutro_df = pd.DataFrame().from_dict({\"age\":age_neutro,\n",
    "                                     \"salary\":salary_neutro,\n",
    "                                     \"num_reclama_sac\": num_reclama_sac_neutro,\n",
    "                                     \"nota\":nota_neutro\n",
    "                                    })"
   ]
  },
  {
   "cell_type": "code",
   "execution_count": 8,
   "metadata": {},
   "outputs": [],
   "source": [
    "detrator_df = pd.DataFrame().from_dict({ \"age\":age_detrator,\n",
    "                                     \"salary\":salary_detrator,\n",
    "                                     \"num_reclama_sac\": num_reclama_sac_detrator,\n",
    "                                     \"nota\":nota_detrator\n",
    "                                    })"
   ]
  },
  {
   "cell_type": "code",
   "execution_count": 9,
   "metadata": {},
   "outputs": [],
   "source": [
    "nps_df = promotor_df.append(neutro_df, ignore_index=True).append(detrator_df, ignore_index=True)"
   ]
  },
  {
   "cell_type": "code",
   "execution_count": 10,
   "metadata": {},
   "outputs": [
    {
     "data": {
      "text/html": [
       "<div>\n",
       "<style scoped>\n",
       "    .dataframe tbody tr th:only-of-type {\n",
       "        vertical-align: middle;\n",
       "    }\n",
       "\n",
       "    .dataframe tbody tr th {\n",
       "        vertical-align: top;\n",
       "    }\n",
       "\n",
       "    .dataframe thead th {\n",
       "        text-align: right;\n",
       "    }\n",
       "</style>\n",
       "<table border=\"1\" class=\"dataframe\">\n",
       "  <thead>\n",
       "    <tr style=\"text-align: right;\">\n",
       "      <th></th>\n",
       "      <th>age</th>\n",
       "      <th>salary</th>\n",
       "      <th>num_reclama_sac</th>\n",
       "      <th>nota</th>\n",
       "    </tr>\n",
       "  </thead>\n",
       "  <tbody>\n",
       "    <tr>\n",
       "      <td>count</td>\n",
       "      <td>30000.000000</td>\n",
       "      <td>30000.000000</td>\n",
       "      <td>30000.000000</td>\n",
       "      <td>30000.000000</td>\n",
       "    </tr>\n",
       "    <tr>\n",
       "      <td>mean</td>\n",
       "      <td>37.342662</td>\n",
       "      <td>4998.207881</td>\n",
       "      <td>2.656800</td>\n",
       "      <td>6.826467</td>\n",
       "    </tr>\n",
       "    <tr>\n",
       "      <td>std</td>\n",
       "      <td>13.572768</td>\n",
       "      <td>501.630488</td>\n",
       "      <td>2.434737</td>\n",
       "      <td>2.866826</td>\n",
       "    </tr>\n",
       "    <tr>\n",
       "      <td>min</td>\n",
       "      <td>-32.022140</td>\n",
       "      <td>3009.342109</td>\n",
       "      <td>0.000000</td>\n",
       "      <td>0.000000</td>\n",
       "    </tr>\n",
       "    <tr>\n",
       "      <td>25%</td>\n",
       "      <td>32.396932</td>\n",
       "      <td>4659.446258</td>\n",
       "      <td>1.000000</td>\n",
       "      <td>6.000000</td>\n",
       "    </tr>\n",
       "    <tr>\n",
       "      <td>50%</td>\n",
       "      <td>38.483503</td>\n",
       "      <td>4998.116042</td>\n",
       "      <td>2.000000</td>\n",
       "      <td>8.000000</td>\n",
       "    </tr>\n",
       "    <tr>\n",
       "      <td>75%</td>\n",
       "      <td>48.452143</td>\n",
       "      <td>5334.283367</td>\n",
       "      <td>4.000000</td>\n",
       "      <td>9.000000</td>\n",
       "    </tr>\n",
       "    <tr>\n",
       "      <td>max</td>\n",
       "      <td>79.865479</td>\n",
       "      <td>7167.653254</td>\n",
       "      <td>9.000000</td>\n",
       "      <td>10.000000</td>\n",
       "    </tr>\n",
       "  </tbody>\n",
       "</table>\n",
       "</div>"
      ],
      "text/plain": [
       "                age        salary  num_reclama_sac          nota\n",
       "count  30000.000000  30000.000000     30000.000000  30000.000000\n",
       "mean      37.342662   4998.207881         2.656800      6.826467\n",
       "std       13.572768    501.630488         2.434737      2.866826\n",
       "min      -32.022140   3009.342109         0.000000      0.000000\n",
       "25%       32.396932   4659.446258         1.000000      6.000000\n",
       "50%       38.483503   4998.116042         2.000000      8.000000\n",
       "75%       48.452143   5334.283367         4.000000      9.000000\n",
       "max       79.865479   7167.653254         9.000000     10.000000"
      ]
     },
     "execution_count": 10,
     "metadata": {},
     "output_type": "execute_result"
    }
   ],
   "source": [
    "nps_df.describe()"
   ]
  },
  {
   "cell_type": "code",
   "execution_count": 11,
   "metadata": {},
   "outputs": [],
   "source": [
    "nps_df.to_csv(\"nps_df_clustering.csv\",index=False)"
   ]
  },
  {
   "cell_type": "code",
   "execution_count": 2,
   "metadata": {},
   "outputs": [],
   "source": [
    "X, y = make_blobs(n_samples=1000, centers=5, n_features=2,random_state=0)"
   ]
  },
  {
   "cell_type": "code",
   "execution_count": 3,
   "metadata": {},
   "outputs": [
    {
     "data": {
      "text/html": [
       "<div>\n",
       "<style scoped>\n",
       "    .dataframe tbody tr th:only-of-type {\n",
       "        vertical-align: middle;\n",
       "    }\n",
       "\n",
       "    .dataframe tbody tr th {\n",
       "        vertical-align: top;\n",
       "    }\n",
       "\n",
       "    .dataframe thead th {\n",
       "        text-align: right;\n",
       "    }\n",
       "</style>\n",
       "<table border=\"1\" class=\"dataframe\">\n",
       "  <thead>\n",
       "    <tr style=\"text-align: right;\">\n",
       "      <th></th>\n",
       "      <th>0</th>\n",
       "      <th>1</th>\n",
       "    </tr>\n",
       "  </thead>\n",
       "  <tbody>\n",
       "    <tr>\n",
       "      <td>0</td>\n",
       "      <td>-0.705645</td>\n",
       "      <td>8.551399</td>\n",
       "    </tr>\n",
       "    <tr>\n",
       "      <td>1</td>\n",
       "      <td>-0.997960</td>\n",
       "      <td>3.164030</td>\n",
       "    </tr>\n",
       "    <tr>\n",
       "      <td>2</td>\n",
       "      <td>2.826673</td>\n",
       "      <td>1.927102</td>\n",
       "    </tr>\n",
       "    <tr>\n",
       "      <td>3</td>\n",
       "      <td>2.660388</td>\n",
       "      <td>1.793220</td>\n",
       "    </tr>\n",
       "    <tr>\n",
       "      <td>4</td>\n",
       "      <td>1.073995</td>\n",
       "      <td>4.886741</td>\n",
       "    </tr>\n",
       "    <tr>\n",
       "      <td>...</td>\n",
       "      <td>...</td>\n",
       "      <td>...</td>\n",
       "    </tr>\n",
       "    <tr>\n",
       "      <td>995</td>\n",
       "      <td>1.585235</td>\n",
       "      <td>0.680932</td>\n",
       "    </tr>\n",
       "    <tr>\n",
       "      <td>996</td>\n",
       "      <td>8.464538</td>\n",
       "      <td>-3.435294</td>\n",
       "    </tr>\n",
       "    <tr>\n",
       "      <td>997</td>\n",
       "      <td>-1.019665</td>\n",
       "      <td>2.801653</td>\n",
       "    </tr>\n",
       "    <tr>\n",
       "      <td>998</td>\n",
       "      <td>-1.797754</td>\n",
       "      <td>6.736889</td>\n",
       "    </tr>\n",
       "    <tr>\n",
       "      <td>999</td>\n",
       "      <td>10.483105</td>\n",
       "      <td>-3.737274</td>\n",
       "    </tr>\n",
       "  </tbody>\n",
       "</table>\n",
       "<p>1000 rows × 2 columns</p>\n",
       "</div>"
      ],
      "text/plain": [
       "             0         1\n",
       "0    -0.705645  8.551399\n",
       "1    -0.997960  3.164030\n",
       "2     2.826673  1.927102\n",
       "3     2.660388  1.793220\n",
       "4     1.073995  4.886741\n",
       "..         ...       ...\n",
       "995   1.585235  0.680932\n",
       "996   8.464538 -3.435294\n",
       "997  -1.019665  2.801653\n",
       "998  -1.797754  6.736889\n",
       "999  10.483105 -3.737274\n",
       "\n",
       "[1000 rows x 2 columns]"
      ]
     },
     "execution_count": 3,
     "metadata": {},
     "output_type": "execute_result"
    }
   ],
   "source": [
    "pd.DataFrame(X)"
   ]
  },
  {
   "cell_type": "code",
   "execution_count": 4,
   "metadata": {},
   "outputs": [],
   "source": [
    "pd.DataFrame(X).to_csv(\"dummy_clustering.csv\",index = False)"
   ]
  },
  {
   "cell_type": "code",
   "execution_count": null,
   "metadata": {},
   "outputs": [],
   "source": []
  }
 ],
 "metadata": {
  "kernelspec": {
   "display_name": "Python 3",
   "language": "python",
   "name": "python3"
  },
  "language_info": {
   "codemirror_mode": {
    "name": "ipython",
    "version": 3
   },
   "file_extension": ".py",
   "mimetype": "text/x-python",
   "name": "python",
   "nbconvert_exporter": "python",
   "pygments_lexer": "ipython3",
   "version": "3.7.4"
  }
 },
 "nbformat": 4,
 "nbformat_minor": 2
}
