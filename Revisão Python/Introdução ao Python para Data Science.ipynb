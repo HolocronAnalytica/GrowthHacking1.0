{
 "cells": [
  {
   "cell_type": "code",
   "execution_count": 2,
   "metadata": {},
   "outputs": [],
   "source": [
    "#Essa é uma célula de comentário\n",
    "#Comentários em python possuem uma # no inicio da linha\n",
    "#Para executar, podemos apertar o botão \"Run\" na barra de atalhos logo abaixo de Kernel\n",
    "#Ou utilizando atalhos do teclado, como shift+enter(ou shift return no MAC)"
   ]
  },
  {
   "cell_type": "markdown",
   "metadata": {},
   "source": [
    "##### Essa é uma celula de markdown\n",
    "- O Jupyter é uma ferramenta poderosa para geração de relatórios.\n",
    "- Aqui podemos escrever textos e fazer marcação utilizando linguagens como HTML para formatação\n",
    "- Podemos colocar equações utilizando sintaxe LaTeX: $e^{i\\pi} + 1 = 0$\n",
    "- fazer tabelas: \n",
    "\n",
    "| This | is   |\n",
    "|------|------|\n",
    "|   a  | table|\n",
    "\n",
    "- Inserir links, animações, imagens, videos e várias outros recursos para tornarmos nossos relatórios mais dinamicos\n",
    "- Para iniciar uma celular em markdown, basta ir na caixa de rolagem na barra de atalhos, abaixo de Widgets, e trocar de Code para Markdown. Também podemos usar o atalho de teclado \"Seleciona a celula + M\""
   ]
  },
  {
   "cell_type": "markdown",
   "metadata": {},
   "source": [
    "## Python Básico"
   ]
  },
  {
   "cell_type": "code",
   "execution_count": 3,
   "metadata": {},
   "outputs": [
    {
     "data": {
      "text/plain": [
       "1"
      ]
     },
     "execution_count": 3,
     "metadata": {},
     "output_type": "execute_result"
    }
   ],
   "source": [
    "1"
   ]
  },
  {
   "cell_type": "code",
   "execution_count": 4,
   "metadata": {},
   "outputs": [
    {
     "data": {
      "text/plain": [
       "3"
      ]
     },
     "execution_count": 4,
     "metadata": {},
     "output_type": "execute_result"
    }
   ],
   "source": [
    "1+2"
   ]
  },
  {
   "cell_type": "code",
   "execution_count": 84,
   "metadata": {},
   "outputs": [
    {
     "name": "stdout",
     "output_type": "stream",
     "text": [
      "3 -1 6 1.0 1024\n"
     ]
    }
   ],
   "source": [
    "print(1+2,1-2,2*3,3/3,2**10)"
   ]
  },
  {
   "cell_type": "code",
   "execution_count": 6,
   "metadata": {},
   "outputs": [],
   "source": [
    "a = 1 #declaramos a variável a"
   ]
  },
  {
   "cell_type": "code",
   "execution_count": 7,
   "metadata": {},
   "outputs": [
    {
     "data": {
      "text/plain": [
       "int"
      ]
     },
     "execution_count": 7,
     "metadata": {},
     "output_type": "execute_result"
    }
   ],
   "source": [
    "type(a) #Utilizando o comando type, podemos ver o tipo da variável, um inteiro"
   ]
  },
  {
   "cell_type": "code",
   "execution_count": 8,
   "metadata": {},
   "outputs": [
    {
     "data": {
      "text/plain": [
       "2"
      ]
     },
     "execution_count": 8,
     "metadata": {},
     "output_type": "execute_result"
    }
   ],
   "source": [
    "a+1 #Podemos fazer operações com ela"
   ]
  },
  {
   "cell_type": "code",
   "execution_count": 10,
   "metadata": {},
   "outputs": [
    {
     "name": "stdout",
     "output_type": "stream",
     "text": [
      "Antigo: 1\n",
      "Novo: 2\n"
     ]
    }
   ],
   "source": [
    "print(\"Antigo:\", a)\n",
    "a = 2 #Isso deve alterar o valor original\n",
    "print(\"Novo:\",a)"
   ]
  },
  {
   "cell_type": "code",
   "execution_count": 11,
   "metadata": {},
   "outputs": [
    {
     "name": "stdout",
     "output_type": "stream",
     "text": [
      "olá mundo\n"
     ]
    }
   ],
   "source": [
    "#Uma variável entre Aspas (simples ou duplas) é uma variável de texto\n",
    "b = \"olá mundo\"\n",
    "print(b)"
   ]
  },
  {
   "cell_type": "code",
   "execution_count": 12,
   "metadata": {},
   "outputs": [
    {
     "ename": "TypeError",
     "evalue": "unsupported operand type(s) for +: 'int' and 'str'",
     "output_type": "error",
     "traceback": [
      "\u001b[0;31m---------------------------------------------------------------------------\u001b[0m",
      "\u001b[0;31mTypeError\u001b[0m                                 Traceback (most recent call last)",
      "\u001b[0;32m<ipython-input-12-ca730b97bf8a>\u001b[0m in \u001b[0;36m<module>\u001b[0;34m\u001b[0m\n\u001b[0;32m----> 1\u001b[0;31m \u001b[0ma\u001b[0m\u001b[0;34m+\u001b[0m\u001b[0mb\u001b[0m\u001b[0;34m\u001b[0m\u001b[0;34m\u001b[0m\u001b[0m\n\u001b[0m",
      "\u001b[0;31mTypeError\u001b[0m: unsupported operand type(s) for +: 'int' and 'str'"
     ]
    }
   ],
   "source": [
    "a+b #Não conseguimos fazer operações com variáveis de texto (String)"
   ]
  },
  {
   "cell_type": "code",
   "execution_count": 18,
   "metadata": {},
   "outputs": [
    {
     "data": {
      "text/plain": [
       "str"
      ]
     },
     "execution_count": 18,
     "metadata": {},
     "output_type": "execute_result"
    }
   ],
   "source": [
    "type(b) #b é uma str - String"
   ]
  },
  {
   "cell_type": "code",
   "execution_count": 14,
   "metadata": {},
   "outputs": [
    {
     "data": {
      "text/plain": [
       "4"
      ]
     },
     "execution_count": 14,
     "metadata": {},
     "output_type": "execute_result"
    }
   ],
   "source": [
    "b = \"2\" #Porém se o texto for somente um número\n",
    "a+int(b) #Podemos utilizar a função int(var) para converter seu tipo para inteiro "
   ]
  },
  {
   "cell_type": "code",
   "execution_count": 15,
   "metadata": {},
   "outputs": [
    {
     "ename": "ValueError",
     "evalue": "invalid literal for int() with base 10: 'ola mundo'",
     "output_type": "error",
     "traceback": [
      "\u001b[0;31m---------------------------------------------------------------------------\u001b[0m",
      "\u001b[0;31mValueError\u001b[0m                                Traceback (most recent call last)",
      "\u001b[0;32m<ipython-input-15-751b1a836f27>\u001b[0m in \u001b[0;36m<module>\u001b[0;34m\u001b[0m\n\u001b[0;32m----> 1\u001b[0;31m \u001b[0mint\u001b[0m\u001b[0;34m(\u001b[0m\u001b[0;34m\"ola mundo\"\u001b[0m\u001b[0;34m)\u001b[0m\u001b[0;34m\u001b[0m\u001b[0;34m\u001b[0m\u001b[0m\n\u001b[0m",
      "\u001b[0;31mValueError\u001b[0m: invalid literal for int() with base 10: 'ola mundo'"
     ]
    }
   ],
   "source": [
    "int(\"ola mundo\") #Se fizermos isso com um texto não númerico, teremos um problema"
   ]
  },
  {
   "cell_type": "code",
   "execution_count": 17,
   "metadata": {},
   "outputs": [
    {
     "name": "stdout",
     "output_type": "stream",
     "text": [
      "Olá Mundo Curso de Python\n"
     ]
    }
   ],
   "source": [
    "b = \"Olá Mundo\"\n",
    "c = \" Curso de Python\"\n",
    "print(b+c) #Se utilizarmos o operador + entre dois campos str, teremos como resultado as duas strings concatenadas"
   ]
  },
  {
   "cell_type": "markdown",
   "metadata": {},
   "source": [
    "### Condicionais e loops"
   ]
  },
  {
   "cell_type": "code",
   "execution_count": 20,
   "metadata": {},
   "outputs": [],
   "source": [
    "#Uma ferramenta muito útil dentro de programação é a criação de condições (if) e loops (for e while)\n",
    "# if - verifica se uma condição é verdadeira, se for executa um bloco de código, se não for, executa outro\n",
    "# while - Enquanto algo for verdade, faça alguma coisa\n",
    "# for - Para cada valor, faça algo"
   ]
  },
  {
   "cell_type": "code",
   "execution_count": 21,
   "metadata": {},
   "outputs": [],
   "source": [
    "boolean = True #Um campo do tipo boleano possui valores True (verdadeiro) ou False (falso)"
   ]
  },
  {
   "cell_type": "code",
   "execution_count": 22,
   "metadata": {},
   "outputs": [
    {
     "name": "stdout",
     "output_type": "stream",
     "text": [
      "True\n"
     ]
    }
   ],
   "source": [
    "#Podemos criar uma variável também utilizando operadores\n",
    "is_true = 3 > 2 # 3 é maior do que dois?\n",
    "print(is_true) #True"
   ]
  },
  {
   "cell_type": "code",
   "execution_count": 23,
   "metadata": {},
   "outputs": [
    {
     "name": "stdout",
     "output_type": "stream",
     "text": [
      "False\n"
     ]
    }
   ],
   "source": [
    "is_false = 3 < 2 # 3 é menor do que dois?\n",
    "print(is_false) #False"
   ]
  },
  {
   "cell_type": "code",
   "execution_count": 24,
   "metadata": {},
   "outputs": [
    {
     "name": "stdout",
     "output_type": "stream",
     "text": [
      "True\n"
     ]
    }
   ],
   "source": [
    "#Um unico simbolo de igual no python representa atribuição, para verificarmos se alguma coisa é igual\n",
    "#a outra coisa, utilizamos o operador == (igual igual)\n",
    "is_equal = 3 == 3 \n",
    "print(is_equal)"
   ]
  },
  {
   "cell_type": "code",
   "execution_count": 25,
   "metadata": {},
   "outputs": [
    {
     "name": "stdout",
     "output_type": "stream",
     "text": [
      "3 é maior do que 2\n"
     ]
    }
   ],
   "source": [
    "#Vamos para condicionais\n",
    "#Atenção: Python é sensitivo a IDENTAÇÃO de código, ou seja, espaços em branco no começo da linha\n",
    "if 3 > 2:\n",
    "    print(\"3 é maior do que 2\")"
   ]
  },
  {
   "cell_type": "code",
   "execution_count": 26,
   "metadata": {},
   "outputs": [
    {
     "name": "stdout",
     "output_type": "stream",
     "text": [
      "3 é maior do que 2\n"
     ]
    }
   ],
   "source": [
    "#Vamos incluir uma condição alternativa, um else\n",
    "if 3 > 2:\n",
    "    print(\"3 é maior do que 2\")\n",
    "else:\n",
    "    print(\"Condição é falsa\")"
   ]
  },
  {
   "cell_type": "code",
   "execution_count": 27,
   "metadata": {},
   "outputs": [
    {
     "name": "stdout",
     "output_type": "stream",
     "text": [
      "Condição é falsa\n"
     ]
    }
   ],
   "source": [
    "if 3 < 2: #Vamos inverter a condicional para testarmos nosso else\n",
    "    print(\"3 é maior do que 2\")\n",
    "else:\n",
    "    print(\"Condição é falsa\")"
   ]
  },
  {
   "cell_type": "code",
   "execution_count": 28,
   "metadata": {},
   "outputs": [
    {
     "name": "stdout",
     "output_type": "stream",
     "text": [
      "2\n",
      "3\n",
      "4\n",
      "5\n",
      "6\n",
      "7\n",
      "8\n",
      "9\n",
      "10\n"
     ]
    }
   ],
   "source": [
    "#Vamos falar de loops\n",
    "#Loops são ferramentas uteis quando vamos executar um trecho de código repetidas vezes\n",
    "a = 1 #Vamos criar uma variável auxiliar com valor 1\n",
    "while a < 10: #Equanto a for menor do que 10\n",
    "    a = a + 1 #Aumentamos 1 no valor de a\n",
    "    print(a) #print no valor de a"
   ]
  },
  {
   "cell_type": "code",
   "execution_count": 29,
   "metadata": {},
   "outputs": [
    {
     "name": "stdout",
     "output_type": "stream",
     "text": [
      "2\n",
      "3\n",
      "4\n",
      "5\n",
      "6\n",
      "7\n",
      "8\n",
      "9\n",
      "10\n"
     ]
    }
   ],
   "source": [
    "#A alternativa menos efeiciente para o loop acima é executar o comando a = a + 1 9 vezes\n",
    "#Gerando um código sujo e dificil de ler (imagine ter que fazer isso 1000 vezes!!)\n",
    "a = 1\n",
    "a = a + 1\n",
    "print(a)\n",
    "a = a + 1\n",
    "print(a)\n",
    "a = a + 1\n",
    "print(a)\n",
    "a = a + 1\n",
    "print(a)\n",
    "a = a + 1\n",
    "print(a)\n",
    "a = a + 1\n",
    "print(a)\n",
    "a = a + 1\n",
    "print(a)\n",
    "a = a + 1\n",
    "print(a)\n",
    "a = a + 1\n",
    "print(a)"
   ]
  },
  {
   "cell_type": "code",
   "execution_count": 30,
   "metadata": {},
   "outputs": [
    {
     "name": "stdout",
     "output_type": "stream",
     "text": [
      "2\n",
      "3\n",
      "4\n",
      "5\n",
      "6\n",
      "7\n",
      "8\n",
      "9\n",
      "10\n",
      "Chegamos no final do loop\n"
     ]
    }
   ],
   "source": [
    "#E podemos incluir condicionais dentro desses loops\n",
    "a = 1 #Vamos criar uma variável auxiliar com valor 1\n",
    "while a < 10: #Equanto a for menor do que 10\n",
    "    a = a + 1 #Aumentamos 1 no valor de a\n",
    "    print(a) #print no valor de a\n",
    "    if a == 10:#Se a for igual a 10, ou seja, o ponto final do loop\n",
    "        print(\"Chegamos no final do loop\") #Podemos imprimir na tela um aviso"
   ]
  },
  {
   "cell_type": "code",
   "execution_count": null,
   "metadata": {},
   "outputs": [],
   "source": [
    "#Cuidado para não criar loops infinitos (que vão rodar sem condição de parada, pra sempre)\n",
    "while True: #Esse loop vai rodar pra sempre\n",
    "    pass #Comando pass indica que não faremos nada"
   ]
  },
  {
   "cell_type": "code",
   "execution_count": 32,
   "metadata": {},
   "outputs": [
    {
     "name": "stdout",
     "output_type": "stream",
     "text": [
      "2\n",
      "3\n"
     ]
    }
   ],
   "source": [
    "a = 1\n",
    "while a > 0: #Esse loop vai rodar pra sempre\n",
    "    a = a+1\n",
    "    print(a)\n",
    "    if a == 3: #a não ser que criemos uma condição de quebra\n",
    "        break #break sai do loop"
   ]
  },
  {
   "cell_type": "code",
   "execution_count": 33,
   "metadata": {},
   "outputs": [
    {
     "name": "stdout",
     "output_type": "stream",
     "text": [
      "range(0, 10)\n"
     ]
    }
   ],
   "source": [
    "#Um loop for é usado quando queremos iterar uma sequencia de valores\n",
    "#para isso podemos usar comandos como \"in\" e funções como range()\n",
    "print(range(10))"
   ]
  },
  {
   "cell_type": "code",
   "execution_count": 34,
   "metadata": {},
   "outputs": [
    {
     "name": "stdout",
     "output_type": "stream",
     "text": [
      "0\n",
      "1\n",
      "2\n",
      "3\n",
      "4\n",
      "5\n",
      "6\n",
      "7\n",
      "8\n",
      "9\n"
     ]
    }
   ],
   "source": [
    "for i in range(10): #Para cada valor \"i\" gerado pela função range() - recebendo 10 ela gera 10 valores: inteiros de 0 a 9 \n",
    "    print(i)"
   ]
  },
  {
   "cell_type": "code",
   "execution_count": 35,
   "metadata": {},
   "outputs": [],
   "source": [
    "#O loop for tem sua aplicação mais clara depois do próximo tópico: estruturas de dados."
   ]
  },
  {
   "cell_type": "markdown",
   "metadata": {},
   "source": [
    "### Estrutura de dados\n",
    "- Dentro de estrutura nativas de dados mais utilizadas temos as listas e os dicionários.\n",
    "\n",
    " - listas - representadas por valores dentro de []\n",
    " - dicionarios - conjuntos estruturados como chave e valor representados dentro de {}\n",
    " \n",
    "- Dentro de ciência de dados, estrutura como Séries e DataFrames são muito comuns e falaremos delas no tópico de pacotes externos."
   ]
  },
  {
   "cell_type": "code",
   "execution_count": 53,
   "metadata": {},
   "outputs": [
    {
     "name": "stdout",
     "output_type": "stream",
     "text": [
      "[1, 2, 3]\n"
     ]
    }
   ],
   "source": [
    "#Listas\n",
    "lista = [1,2,3]\n",
    "print(lista)"
   ]
  },
  {
   "cell_type": "code",
   "execution_count": 54,
   "metadata": {},
   "outputs": [
    {
     "data": {
      "text/plain": [
       "list"
      ]
     },
     "execution_count": 54,
     "metadata": {},
     "output_type": "execute_result"
    }
   ],
   "source": [
    "type(lista)"
   ]
  },
  {
   "cell_type": "code",
   "execution_count": 55,
   "metadata": {},
   "outputs": [
    {
     "name": "stdout",
     "output_type": "stream",
     "text": [
      "[1, 2, 3, 4]\n"
     ]
    }
   ],
   "source": [
    "#Para inserir novos valores, usamos a função append()\n",
    "lista.append(4)\n",
    "print(lista)"
   ]
  },
  {
   "cell_type": "code",
   "execution_count": 56,
   "metadata": {},
   "outputs": [
    {
     "name": "stdout",
     "output_type": "stream",
     "text": [
      "[1, 2, 3]\n"
     ]
    }
   ],
   "source": [
    "#Para remover, usamos a função remove\n",
    "lista.remove(4) #Passamos o valor a ser removido\n",
    "print(lista)"
   ]
  },
  {
   "cell_type": "code",
   "execution_count": 57,
   "metadata": {},
   "outputs": [
    {
     "name": "stdout",
     "output_type": "stream",
     "text": [
      "[1, 2]\n"
     ]
    }
   ],
   "source": [
    "lista.pop() #Para remover o último valor, usamos pop()\n",
    "print(lista)"
   ]
  },
  {
   "cell_type": "code",
   "execution_count": 59,
   "metadata": {},
   "outputs": [
    {
     "name": "stdout",
     "output_type": "stream",
     "text": [
      "1\n",
      "2\n",
      "2\n"
     ]
    }
   ],
   "source": [
    "#Também conseguimos acessar os valores da lista por índices. \n",
    "#Um índice começa em 0 e vai até o tamanho da lista-1\n",
    "print(lista[0])\n",
    "print(lista[1])\n",
    "print(len(lista)) #Tamanho da lista"
   ]
  },
  {
   "cell_type": "code",
   "execution_count": 60,
   "metadata": {},
   "outputs": [
    {
     "ename": "IndexError",
     "evalue": "list index out of range",
     "output_type": "error",
     "traceback": [
      "\u001b[0;31m---------------------------------------------------------------------------\u001b[0m",
      "\u001b[0;31mIndexError\u001b[0m                                Traceback (most recent call last)",
      "\u001b[0;32m<ipython-input-60-801477cf6fda>\u001b[0m in \u001b[0;36m<module>\u001b[0;34m\u001b[0m\n\u001b[1;32m      1\u001b[0m \u001b[0;31m#Se tentarmos acessar um indice que não existe, temos um erro\u001b[0m\u001b[0;34m\u001b[0m\u001b[0;34m\u001b[0m\u001b[0;34m\u001b[0m\u001b[0m\n\u001b[0;32m----> 2\u001b[0;31m \u001b[0mlista\u001b[0m\u001b[0;34m[\u001b[0m\u001b[0;36m3\u001b[0m\u001b[0;34m]\u001b[0m\u001b[0;34m\u001b[0m\u001b[0;34m\u001b[0m\u001b[0m\n\u001b[0m",
      "\u001b[0;31mIndexError\u001b[0m: list index out of range"
     ]
    }
   ],
   "source": [
    "#Se tentarmos acessar um indice que não existe, temos um erro\n",
    "lista[3]"
   ]
  },
  {
   "cell_type": "code",
   "execution_count": 61,
   "metadata": {},
   "outputs": [
    {
     "name": "stdout",
     "output_type": "stream",
     "text": [
      "1\n",
      "2\n",
      "3\n",
      "4\n",
      "5\n",
      "6\n",
      "7\n",
      "8\n"
     ]
    }
   ],
   "source": [
    "#Também podemos utilizar a lista no lugar do range em um loop for\n",
    "lista = [1,2,3,4,5,6,7,8]\n",
    "for i in lista: #Para cada valor i na minha lista\n",
    "    print(i)"
   ]
  },
  {
   "cell_type": "code",
   "execution_count": 62,
   "metadata": {},
   "outputs": [
    {
     "name": "stdout",
     "output_type": "stream",
     "text": [
      "[1, 'a', True]\n"
     ]
    }
   ],
   "source": [
    "#Uma lista pode conter vários tipos de dados\n",
    "lista = [1,\"a\",True]\n",
    "print(lista)"
   ]
  },
  {
   "cell_type": "code",
   "execution_count": 63,
   "metadata": {},
   "outputs": [
    {
     "name": "stdout",
     "output_type": "stream",
     "text": [
      "1\n",
      "a\n",
      "True\n"
     ]
    }
   ],
   "source": [
    "#E podemos iterar em um loop for\n",
    "for i in lista:\n",
    "    print(i)"
   ]
  },
  {
   "cell_type": "code",
   "execution_count": 65,
   "metadata": {},
   "outputs": [
    {
     "name": "stdout",
     "output_type": "stream",
     "text": [
      "inteiro\n",
      "string\n",
      "boleano\n"
     ]
    }
   ],
   "source": [
    "for i in lista:\n",
    "    if type(i) == int:\n",
    "        print(\"inteiro\")\n",
    "    elif type(i) == bool: #elif - combinação de else e if, nos permite verificar uma condição somente se a anterior for invalida\n",
    "        print(\"boleano\")\n",
    "    elif type(i) == str:\n",
    "        print(\"string\")"
   ]
  },
  {
   "cell_type": "code",
   "execution_count": 67,
   "metadata": {},
   "outputs": [
    {
     "name": "stdout",
     "output_type": "stream",
     "text": [
      "{'primeiro': 1, 'segundo': 2}\n"
     ]
    }
   ],
   "source": [
    "#Dicionários são conjuntos organizados em formatos de chave - valor, sendo que a chave deve ser unica\n",
    "dicionario = {\"primeiro\": 1, \"segundo\": 2}\n",
    "print(dicionario)"
   ]
  },
  {
   "cell_type": "code",
   "execution_count": 69,
   "metadata": {},
   "outputs": [
    {
     "data": {
      "text/plain": [
       "dict_keys(['primeiro', 'segundo'])"
      ]
     },
     "execution_count": 69,
     "metadata": {},
     "output_type": "execute_result"
    }
   ],
   "source": [
    "dicionario.keys() #Quais as chaves?"
   ]
  },
  {
   "cell_type": "code",
   "execution_count": 70,
   "metadata": {},
   "outputs": [
    {
     "data": {
      "text/plain": [
       "1"
      ]
     },
     "execution_count": 70,
     "metadata": {},
     "output_type": "execute_result"
    }
   ],
   "source": [
    "dicionario[\"primeiro\"] #Acessamos os valores pelas chaves "
   ]
  },
  {
   "cell_type": "code",
   "execution_count": 71,
   "metadata": {},
   "outputs": [
    {
     "ename": "KeyError",
     "evalue": "0",
     "output_type": "error",
     "traceback": [
      "\u001b[0;31m---------------------------------------------------------------------------\u001b[0m",
      "\u001b[0;31mKeyError\u001b[0m                                  Traceback (most recent call last)",
      "\u001b[0;32m<ipython-input-71-ab1248cb079b>\u001b[0m in \u001b[0;36m<module>\u001b[0;34m\u001b[0m\n\u001b[0;32m----> 1\u001b[0;31m \u001b[0mdicionario\u001b[0m\u001b[0;34m[\u001b[0m\u001b[0;36m0\u001b[0m\u001b[0;34m]\u001b[0m\u001b[0;34m\u001b[0m\u001b[0;34m\u001b[0m\u001b[0m\n\u001b[0m",
      "\u001b[0;31mKeyError\u001b[0m: 0"
     ]
    }
   ],
   "source": [
    "dicionario[0] #Não acessamos os valores por indices, a não ser que o indice seja chave"
   ]
  },
  {
   "cell_type": "code",
   "execution_count": 72,
   "metadata": {},
   "outputs": [
    {
     "name": "stdout",
     "output_type": "stream",
     "text": [
      "1\n"
     ]
    }
   ],
   "source": [
    "#Temos agora um formato que o dicionario e a lista são semelhantes, pois as chaves estão no mesmo formato dos índices\n",
    "#Porém não podemos utilizar comandos como pop e append, pois o dicionário não é uma lista\n",
    "dicionario = {0: 1, 1: 2}\n",
    "print(dicionario[0])"
   ]
  },
  {
   "cell_type": "code",
   "execution_count": 73,
   "metadata": {},
   "outputs": [],
   "source": [
    "dicionario[2] = 3 #Criamos uma chave nova"
   ]
  },
  {
   "cell_type": "code",
   "execution_count": 74,
   "metadata": {},
   "outputs": [
    {
     "name": "stdout",
     "output_type": "stream",
     "text": [
      "{0: 1, 1: 2, 2: 3}\n"
     ]
    }
   ],
   "source": [
    "print(dicionario)"
   ]
  },
  {
   "cell_type": "code",
   "execution_count": 75,
   "metadata": {},
   "outputs": [],
   "source": [
    "#Podemos mesclar diferentes tipos de chaves\n",
    "dicionario[\"tres\"] = 4"
   ]
  },
  {
   "cell_type": "code",
   "execution_count": 76,
   "metadata": {},
   "outputs": [
    {
     "name": "stdout",
     "output_type": "stream",
     "text": [
      "{0: 1, 1: 2, 2: 3, 'tres': 4}\n"
     ]
    }
   ],
   "source": [
    "print(dicionario)"
   ]
  },
  {
   "cell_type": "code",
   "execution_count": 78,
   "metadata": {},
   "outputs": [
    {
     "name": "stdout",
     "output_type": "stream",
     "text": [
      "{0: 1, 1: 2, 2: 4, 'tres': 4}\n"
     ]
    }
   ],
   "source": [
    "dicionario[2] = 4 #podemos sobrescrever o valor de uma determinada chave\n",
    "print(dicionario) "
   ]
  },
  {
   "cell_type": "code",
   "execution_count": 80,
   "metadata": {},
   "outputs": [
    {
     "name": "stdout",
     "output_type": "stream",
     "text": [
      "{0: 1, 1: 2, 2: 4, 'tres': 4, 'lista': [0, 1, 2, 3, 4, 5]}\n"
     ]
    }
   ],
   "source": [
    "#Podemos inclusive ter listas dentro de dicionarios - e dicionarios dentro de listas...isso pode ficar bem complexo\n",
    "dicionario[\"lista\"] = [0,1,2,3,4,5]\n",
    "print(dicionario)"
   ]
  },
  {
   "cell_type": "code",
   "execution_count": 81,
   "metadata": {},
   "outputs": [
    {
     "name": "stdout",
     "output_type": "stream",
     "text": [
      "<class 'dict'>\n",
      "<class 'list'>\n"
     ]
    }
   ],
   "source": [
    "print(type(dicionario))\n",
    "print(type(dicionario['lista']))"
   ]
  },
  {
   "cell_type": "markdown",
   "metadata": {},
   "source": [
    "### Objetos, funções e pacotes externos\n",
    "Aqui entramos em um paradigma de programação chamado Orientação a Objetos.\n",
    "- Uma classe é uma forma de representarmos alguma coisa atráves de um escopo fechado, definido por funções e variáveis.\n",
    "- Um objeto é uma instância de uma classe, ou seja, é uma representação de algo dentro de um determinado contexto\n",
    "- Um pacote podem possuir varias classes, uma classe possui varias funções (por formalidade, funções dentro de uma classe são chamados de métodos, mas não precisamos ir tão a fundo no paradigma).\n",
    "\n",
    "Nesse tópico vamos focar em:\n",
    "- Criar funções\n",
    "- Importar pacotes externos\n",
    "- Utilizar classes prontas desses pacotes"
   ]
  },
  {
   "cell_type": "code",
   "execution_count": 86,
   "metadata": {},
   "outputs": [],
   "source": [
    "#Para definirmos uma função, utilizamos o comando def\n",
    "def nome_da_func(parametros): #Podemos passar valores externos para dentro da função, atraves de parametros\n",
    "    return #Uma função retorna algo, ou nada dependendo do caso"
   ]
  },
  {
   "cell_type": "code",
   "execution_count": 87,
   "metadata": {},
   "outputs": [],
   "source": [
    "#Podemos fazer uma função de soma de dois valores\n",
    "def soma(a,b):\n",
    "    return a+b"
   ]
  },
  {
   "cell_type": "code",
   "execution_count": 89,
   "metadata": {},
   "outputs": [
    {
     "data": {
      "text/plain": [
       "3"
      ]
     },
     "execution_count": 89,
     "metadata": {},
     "output_type": "execute_result"
    }
   ],
   "source": [
    "soma(a=1,b=2) #Chamada da função passando dois parametros: a = 1 e b = 2"
   ]
  },
  {
   "cell_type": "code",
   "execution_count": 91,
   "metadata": {},
   "outputs": [
    {
     "data": {
      "text/plain": [
       "3"
      ]
     },
     "execution_count": 91,
     "metadata": {},
     "output_type": "execute_result"
    }
   ],
   "source": [
    "soma(1,2) #Podemos passar os parametro sem ordem também, sem deixar explicito qual é a e qual b. Mas temos que acertar a ordem."
   ]
  },
  {
   "cell_type": "code",
   "execution_count": 92,
   "metadata": {},
   "outputs": [
    {
     "name": "stdout",
     "output_type": "stream",
     "text": [
      "2\n",
      "3\n"
     ]
    }
   ],
   "source": [
    "#Utilizamos funções para comprimir blocos grandes de código que utilizamos varias vezes em uma unica linha:\n",
    "#A chamada da função\n",
    "a = 1\n",
    "while a > 0:\n",
    "    a = soma(a,1) #Note que esse a e o a dentro da função não são a mesma coisa! O escopo da função é diferente.\n",
    "    print(a)\n",
    "    if a == 3:\n",
    "        break"
   ]
  },
  {
   "cell_type": "code",
   "execution_count": 95,
   "metadata": {},
   "outputs": [],
   "source": [
    "#Uma função pode realizar diversas operações, incluir loops e criar variáveis\n",
    "#Digamos que queremos somar b a um determinado valor, a, até que esse valor seja maior do que um valor c.\n",
    "def some_ate_valor(a,b,c):\n",
    "    soma = a #Criamos uma variável soma que recebe o valor inicial de origem de origem\n",
    "    while soma < c: #Criamos uma condição\n",
    "        print(soma)\n",
    "        soma = soma+b #realizamos a operação\n",
    "    return soma #retornamos o resultado"
   ]
  },
  {
   "cell_type": "code",
   "execution_count": 96,
   "metadata": {},
   "outputs": [
    {
     "name": "stdout",
     "output_type": "stream",
     "text": [
      "10\n",
      "20\n",
      "30\n",
      "40\n",
      "50\n",
      "60\n",
      "70\n",
      "80\n",
      "90\n"
     ]
    },
    {
     "data": {
      "text/plain": [
       "100"
      ]
     },
     "execution_count": 96,
     "metadata": {},
     "output_type": "execute_result"
    }
   ],
   "source": [
    "#Agora sempre que fizemos essa operação, ao invés de escrevermos 4 linhas de código, escrevemos somente 1\n",
    "some_ate_valor(10,10,100)"
   ]
  },
  {
   "cell_type": "code",
   "execution_count": 97,
   "metadata": {},
   "outputs": [],
   "source": [
    "#Já haviamos utilizado funções antes, ou melhor, métodos, pois eles estavam dentro de objetos!\n",
    "#Uma lista é um objeto, uma função append é um objeto \n",
    "lista = list() #Criando uma lista vazia direto da classe list()"
   ]
  },
  {
   "cell_type": "code",
   "execution_count": 100,
   "metadata": {},
   "outputs": [],
   "source": [
    "#Chamamos o método append, passando como parametro o número 3\n",
    "#O método append não possui retorno - ele altera o objeto original\n",
    "lista.append(3)"
   ]
  },
  {
   "cell_type": "code",
   "execution_count": 102,
   "metadata": {},
   "outputs": [],
   "source": [
    "#Uma string também é um objeto\n",
    "texto = \"ola mundo\""
   ]
  },
  {
   "cell_type": "code",
   "execution_count": 103,
   "metadata": {},
   "outputs": [
    {
     "data": {
      "text/plain": [
       "'OLA MUNDO'"
      ]
     },
     "execution_count": 103,
     "metadata": {},
     "output_type": "execute_result"
    }
   ],
   "source": [
    "texto.upper() #Podemos chamar métodos, como por exemplo, upper e deixar tudo maiusculo."
   ]
  },
  {
   "cell_type": "code",
   "execution_count": 104,
   "metadata": {},
   "outputs": [
    {
     "data": {
      "text/plain": [
       "['ola', 'mundo']"
      ]
     },
     "execution_count": 104,
     "metadata": {},
     "output_type": "execute_result"
    }
   ],
   "source": [
    "texto.split(\" \") #Ou separar o texto de acordo com algum caractere, como espaço e ter como resultado uma lista."
   ]
  },
  {
   "cell_type": "markdown",
   "metadata": {},
   "source": [
    "### Importando pacotes externos\n",
    "- Um dos pacotes mais comums para ciência de dados é o pandas. Com ele, conseguimos manipular tabelas, fazer analises descritivas e alguns gráficos basicos.\n",
    "- Caso tenham baixado o Anaconda, o pandas já vem instalado, caso não tenham o pandas instalado, precisamos rodar o comando: ```pip install pandas``` no terminal"
   ]
  },
  {
   "cell_type": "code",
   "execution_count": null,
   "metadata": {},
   "outputs": [],
   "source": [
    "#Podemos rodar o comando de instalação via jupyter também, basta colocarmos uma ! na frente\n",
    "!pip install pandas"
   ]
  },
  {
   "cell_type": "code",
   "execution_count": 105,
   "metadata": {},
   "outputs": [],
   "source": [
    "#Para importar um pacote externo, utilizamos o comando import. Alguns pacotes damos apelidos para ficar mais fácil\n",
    "#na chamada do pacote, o pandas nos apelidamos de pd\n",
    "import pandas as pd"
   ]
  },
  {
   "cell_type": "code",
   "execution_count": 106,
   "metadata": {},
   "outputs": [
    {
     "data": {
      "text/html": [
       "<div>\n",
       "<style scoped>\n",
       "    .dataframe tbody tr th:only-of-type {\n",
       "        vertical-align: middle;\n",
       "    }\n",
       "\n",
       "    .dataframe tbody tr th {\n",
       "        vertical-align: top;\n",
       "    }\n",
       "\n",
       "    .dataframe thead th {\n",
       "        text-align: right;\n",
       "    }\n",
       "</style>\n",
       "<table border=\"1\" class=\"dataframe\">\n",
       "  <thead>\n",
       "    <tr style=\"text-align: right;\">\n",
       "      <th></th>\n",
       "    </tr>\n",
       "  </thead>\n",
       "  <tbody>\n",
       "  </tbody>\n",
       "</table>\n",
       "</div>"
      ],
      "text/plain": [
       "Empty DataFrame\n",
       "Columns: []\n",
       "Index: []"
      ]
     },
     "execution_count": 106,
     "metadata": {},
     "output_type": "execute_result"
    }
   ],
   "source": [
    "#No pandas utilizamos a classe dataframe, que nos permite manipular dados tabulares\n",
    "pd.DataFrame() #dataframe vazio"
   ]
  },
  {
   "cell_type": "code",
   "execution_count": 116,
   "metadata": {},
   "outputs": [
    {
     "data": {
      "text/html": [
       "<div>\n",
       "<style scoped>\n",
       "    .dataframe tbody tr th:only-of-type {\n",
       "        vertical-align: middle;\n",
       "    }\n",
       "\n",
       "    .dataframe tbody tr th {\n",
       "        vertical-align: top;\n",
       "    }\n",
       "\n",
       "    .dataframe thead th {\n",
       "        text-align: right;\n",
       "    }\n",
       "</style>\n",
       "<table border=\"1\" class=\"dataframe\">\n",
       "  <thead>\n",
       "    <tr style=\"text-align: right;\">\n",
       "      <th></th>\n",
       "      <th>campo_1</th>\n",
       "      <th>campo_2</th>\n",
       "      <th>campo_3</th>\n",
       "    </tr>\n",
       "  </thead>\n",
       "  <tbody>\n",
       "    <tr>\n",
       "      <td>0</td>\n",
       "      <td>1</td>\n",
       "      <td>4</td>\n",
       "      <td>7</td>\n",
       "    </tr>\n",
       "    <tr>\n",
       "      <td>1</td>\n",
       "      <td>2</td>\n",
       "      <td>5</td>\n",
       "      <td>8</td>\n",
       "    </tr>\n",
       "    <tr>\n",
       "      <td>2</td>\n",
       "      <td>3</td>\n",
       "      <td>6</td>\n",
       "      <td>9</td>\n",
       "    </tr>\n",
       "  </tbody>\n",
       "</table>\n",
       "</div>"
      ],
      "text/plain": [
       "   campo_1  campo_2  campo_3\n",
       "0        1        4        7\n",
       "1        2        5        8\n",
       "2        3        6        9"
      ]
     },
     "execution_count": 116,
     "metadata": {},
     "output_type": "execute_result"
    }
   ],
   "source": [
    "#Um dataframe pode ser lido de um arquivo externo do excel por exemplo com comandos .read_csv(), .read_table(), etc\n",
    "#Para exemplificar, podemos criar um dataframe de um dicionario de listas:\n",
    "dicionario = {\"campo_1\":[1,2,3],\"campo_2\":[4,5,6],\"campo_3\":[7,8,9]}\n",
    "pd.DataFrame(dicionario)"
   ]
  },
  {
   "cell_type": "code",
   "execution_count": 117,
   "metadata": {},
   "outputs": [],
   "source": [
    "#Vamos atribuir esse dataframe a uma variável para manipular sem a necessidade de criar um novo sempre\n",
    "dataframe = pd.DataFrame(dicionario)"
   ]
  },
  {
   "cell_type": "code",
   "execution_count": 118,
   "metadata": {},
   "outputs": [
    {
     "data": {
      "text/plain": [
       "pandas.core.frame.DataFrame"
      ]
     },
     "execution_count": 118,
     "metadata": {},
     "output_type": "execute_result"
    }
   ],
   "source": [
    "type(dataframe) #O tipo é um objeto DataFrame do pacote pandas"
   ]
  },
  {
   "cell_type": "code",
   "execution_count": 119,
   "metadata": {},
   "outputs": [
    {
     "data": {
      "text/plain": [
       "Index(['campo_1', 'campo_2', 'campo_3'], dtype='object')"
      ]
     },
     "execution_count": 119,
     "metadata": {},
     "output_type": "execute_result"
    }
   ],
   "source": [
    "#Podemos capturar os nomes das colunas de um dataframe utilizando o atributo columns. Um atributo é uma variável\n",
    "#dentro do objeto criado\n",
    "dataframe.columns"
   ]
  },
  {
   "cell_type": "code",
   "execution_count": 120,
   "metadata": {},
   "outputs": [
    {
     "data": {
      "text/plain": [
       "campo_1    1\n",
       "campo_2    4\n",
       "campo_3    7\n",
       "Name: 0, dtype: int64"
      ]
     },
     "execution_count": 120,
     "metadata": {},
     "output_type": "execute_result"
    }
   ],
   "source": [
    "#Conseguimos manipular dataframes para pegar os valores de uma linha\n",
    "dataframe.iloc[0] #iloc -> index loc"
   ]
  },
  {
   "cell_type": "code",
   "execution_count": 121,
   "metadata": {},
   "outputs": [
    {
     "data": {
      "text/plain": [
       "0    1\n",
       "1    2\n",
       "2    3\n",
       "Name: campo_1, dtype: int64"
      ]
     },
     "execution_count": 121,
     "metadata": {},
     "output_type": "execute_result"
    }
   ],
   "source": [
    "#Podemos pegar o valor de uma coluna também\n",
    "dataframe[\"campo_1\"] "
   ]
  },
  {
   "cell_type": "code",
   "execution_count": 122,
   "metadata": {},
   "outputs": [
    {
     "data": {
      "text/html": [
       "<div>\n",
       "<style scoped>\n",
       "    .dataframe tbody tr th:only-of-type {\n",
       "        vertical-align: middle;\n",
       "    }\n",
       "\n",
       "    .dataframe tbody tr th {\n",
       "        vertical-align: top;\n",
       "    }\n",
       "\n",
       "    .dataframe thead th {\n",
       "        text-align: right;\n",
       "    }\n",
       "</style>\n",
       "<table border=\"1\" class=\"dataframe\">\n",
       "  <thead>\n",
       "    <tr style=\"text-align: right;\">\n",
       "      <th></th>\n",
       "      <th>campo_1</th>\n",
       "      <th>campo_2</th>\n",
       "    </tr>\n",
       "  </thead>\n",
       "  <tbody>\n",
       "    <tr>\n",
       "      <td>0</td>\n",
       "      <td>1</td>\n",
       "      <td>4</td>\n",
       "    </tr>\n",
       "    <tr>\n",
       "      <td>1</td>\n",
       "      <td>2</td>\n",
       "      <td>5</td>\n",
       "    </tr>\n",
       "    <tr>\n",
       "      <td>2</td>\n",
       "      <td>3</td>\n",
       "      <td>6</td>\n",
       "    </tr>\n",
       "  </tbody>\n",
       "</table>\n",
       "</div>"
      ],
      "text/plain": [
       "   campo_1  campo_2\n",
       "0        1        4\n",
       "1        2        5\n",
       "2        3        6"
      ]
     },
     "execution_count": 122,
     "metadata": {},
     "output_type": "execute_result"
    }
   ],
   "source": [
    "#Para varias colunas, devemos passar os nomes como uma lista\n",
    "dataframe[[\"campo_1\",\"campo_2\"]] "
   ]
  },
  {
   "cell_type": "code",
   "execution_count": 123,
   "metadata": {},
   "outputs": [
    {
     "data": {
      "text/html": [
       "<div>\n",
       "<style scoped>\n",
       "    .dataframe tbody tr th:only-of-type {\n",
       "        vertical-align: middle;\n",
       "    }\n",
       "\n",
       "    .dataframe tbody tr th {\n",
       "        vertical-align: top;\n",
       "    }\n",
       "\n",
       "    .dataframe thead th {\n",
       "        text-align: right;\n",
       "    }\n",
       "</style>\n",
       "<table border=\"1\" class=\"dataframe\">\n",
       "  <thead>\n",
       "    <tr style=\"text-align: right;\">\n",
       "      <th></th>\n",
       "      <th>campo_1</th>\n",
       "      <th>campo_2</th>\n",
       "      <th>campo_3</th>\n",
       "    </tr>\n",
       "  </thead>\n",
       "  <tbody>\n",
       "    <tr>\n",
       "      <td>count</td>\n",
       "      <td>3.0</td>\n",
       "      <td>3.0</td>\n",
       "      <td>3.0</td>\n",
       "    </tr>\n",
       "    <tr>\n",
       "      <td>mean</td>\n",
       "      <td>2.0</td>\n",
       "      <td>5.0</td>\n",
       "      <td>8.0</td>\n",
       "    </tr>\n",
       "    <tr>\n",
       "      <td>std</td>\n",
       "      <td>1.0</td>\n",
       "      <td>1.0</td>\n",
       "      <td>1.0</td>\n",
       "    </tr>\n",
       "    <tr>\n",
       "      <td>min</td>\n",
       "      <td>1.0</td>\n",
       "      <td>4.0</td>\n",
       "      <td>7.0</td>\n",
       "    </tr>\n",
       "    <tr>\n",
       "      <td>25%</td>\n",
       "      <td>1.5</td>\n",
       "      <td>4.5</td>\n",
       "      <td>7.5</td>\n",
       "    </tr>\n",
       "    <tr>\n",
       "      <td>50%</td>\n",
       "      <td>2.0</td>\n",
       "      <td>5.0</td>\n",
       "      <td>8.0</td>\n",
       "    </tr>\n",
       "    <tr>\n",
       "      <td>75%</td>\n",
       "      <td>2.5</td>\n",
       "      <td>5.5</td>\n",
       "      <td>8.5</td>\n",
       "    </tr>\n",
       "    <tr>\n",
       "      <td>max</td>\n",
       "      <td>3.0</td>\n",
       "      <td>6.0</td>\n",
       "      <td>9.0</td>\n",
       "    </tr>\n",
       "  </tbody>\n",
       "</table>\n",
       "</div>"
      ],
      "text/plain": [
       "       campo_1  campo_2  campo_3\n",
       "count      3.0      3.0      3.0\n",
       "mean       2.0      5.0      8.0\n",
       "std        1.0      1.0      1.0\n",
       "min        1.0      4.0      7.0\n",
       "25%        1.5      4.5      7.5\n",
       "50%        2.0      5.0      8.0\n",
       "75%        2.5      5.5      8.5\n",
       "max        3.0      6.0      9.0"
      ]
     },
     "execution_count": 123,
     "metadata": {},
     "output_type": "execute_result"
    }
   ],
   "source": [
    "#Conseguimos tirar estatisticas basicas usando o comando describe\n",
    "dataframe.describe()"
   ]
  },
  {
   "cell_type": "code",
   "execution_count": 125,
   "metadata": {},
   "outputs": [
    {
     "data": {
      "text/plain": [
       "<matplotlib.axes._subplots.AxesSubplot at 0x118802090>"
      ]
     },
     "metadata": {},
     "output_type": "display_data"
    },
    {
     "data": {
      "image/png": "[encoded data removed]",
      "text/plain": [
       "<Figure size 432x288 with 1 Axes>"
      ]
     },
     "metadata": {
      "needs_background": "light"
     },
     "output_type": "display_data"
    }
   ],
   "source": [
    "#E graficos simples chamando o comando display\n",
    "display(dataframe[\"campo_1\"].hist())"
   ]
  },
  {
   "cell_type": "code",
   "execution_count": 126,
   "metadata": {},
   "outputs": [
    {
     "data": {
      "text/plain": [
       "<matplotlib.axes._subplots.AxesSubplot at 0x1187f7ad0>"
      ]
     },
     "metadata": {},
     "output_type": "display_data"
    },
    {
     "data": {
      "image/png": "[encoded data removed]",
      "text/plain": [
       "<Figure size 432x288 with 1 Axes>"
      ]
     },
     "metadata": {
      "needs_background": "light"
     },
     "output_type": "display_data"
    }
   ],
   "source": [
    "display(dataframe[\"campo_1\"].plot())"
   ]
  },
  {
   "cell_type": "markdown",
   "metadata": {},
   "source": [
    "### Pacotes importantes de ciência de dados\n",
    "- ```numpy```: pacote para operações vetoriais, calculos de matrizes\n",
    "- ```scikit-learn```: principal pacote para machine learning\n",
    "- ```statsmodel```: pacote para testes estatísticos \n",
    "- ```matplotlib```: pacote para visualização e outros tipos de gráficos\n",
    "- ```seaborn```: outro pacote para visualização"
   ]
  },
  {
   "cell_type": "code",
   "execution_count": null,
   "metadata": {},
   "outputs": [],
   "source": []
  }
 ],
 "metadata": {
  "kernelspec": {
   "display_name": "Python 3",
   "language": "python",
   "name": "python3"
  },
  "language_info": {
   "codemirror_mode": {
    "name": "ipython",
    "version": 3
   },
   "file_extension": ".py",
   "mimetype": "text/x-python",
   "name": "python",
   "nbconvert_exporter": "python",
   "pygments_lexer": "ipython3",
   "version": "3.7.4"
  }
 },
 "nbformat": 4,
 "nbformat_minor": 2
}
