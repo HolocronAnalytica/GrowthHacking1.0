{
 "cells": [
  {
   "cell_type": "code",
   "execution_count": 1,
   "metadata": {},
   "outputs": [],
   "source": [
    "from sklearn.datasets import make_classification\n",
    "import pandas as pd\n",
    "import numpy as np\n",
    "import random\n",
    "from random import randint"
   ]
  },
  {
   "cell_type": "code",
   "execution_count": 2,
   "metadata": {},
   "outputs": [],
   "source": [
    "age_detrator = np.random.normal(25, 15, 10000)\n",
    "age_neutro = np.random.normal(37, 3, 10000)\n",
    "age_promotor = np.random.normal(50, 3, 10000)"
   ]
  },
  {
   "cell_type": "code",
   "execution_count": 3,
   "metadata": {},
   "outputs": [],
   "source": [
    "salary_detrator = np.random.normal(5000, 500, 10000)\n",
    "salary_neutro = np.random.normal(5000, 500, 10000)\n",
    "salary_promotor = np.random.normal(5000, 500, 10000)"
   ]
  },
  {
   "cell_type": "code",
   "execution_count": 4,
   "metadata": {},
   "outputs": [],
   "source": [
    "num_reclama_sac_detrator = [randint(0, 9) for p in range(0, 10000)]\n",
    "num_reclama_sac_neutro = [randint(0, 5) for p in range(0, 10000)]\n",
    "num_reclama_sac_promotor = [randint(0, 2) for p in range(0, 10000)]"
   ]
  },
  {
   "cell_type": "code",
   "execution_count": 5,
   "metadata": {},
   "outputs": [],
   "source": [
    "nota_detrator = [randint(0, 7) for p in range(0, 10000)]\n",
    "nota_neutro = [randint(7, 8) for p in range(0, 10000)]\n",
    "nota_promotor = [randint(9, 10) for p in range(0, 10000)]"
   ]
  },
  {
   "cell_type": "code",
   "execution_count": 6,
   "metadata": {},
   "outputs": [],
   "source": [
    "promotor_df = pd.DataFrame().from_dict({ \"age\":age_promotor,\n",
    "                                     \"salary\":salary_promotor,\n",
    "                                     \"num_reclama_sac\": num_reclama_sac_promotor,\n",
    "                                     \"nota\":nota_promotor\n",
    "                                    })"
   ]
  },
  {
   "cell_type": "code",
   "execution_count": 7,
   "metadata": {},
   "outputs": [],
   "source": [
    "neutro_df = pd.DataFrame().from_dict({\"age\":age_neutro,\n",
    "                                     \"salary\":salary_neutro,\n",
    "                                     \"num_reclama_sac\": num_reclama_sac_neutro,\n",
    "                                     \"nota\":nota_neutro\n",
    "                                    })"
   ]
  },
  {
   "cell_type": "code",
   "execution_count": 8,
   "metadata": {},
   "outputs": [],
   "source": [
    "detrator_df = pd.DataFrame().from_dict({ \"age\":age_detrator,\n",
    "                                     \"salary\":salary_detrator,\n",
    "                                     \"num_reclama_sac\": num_reclama_sac_detrator,\n",
    "                                     \"nota\":nota_detrator\n",
    "                                    })"
   ]
  },
  {
   "cell_type": "code",
   "execution_count": 9,
   "metadata": {},
   "outputs": [],
   "source": [
    "nps_df = promotor_df.append(neutro_df, ignore_index=True).append(detrator_df, ignore_index=True)"
   ]
  },
  {
   "cell_type": "code",
   "execution_count": 10,
   "metadata": {},
   "outputs": [
    {
     "data": {
      "text/html": [
       "<div>\n",
       "<style scoped>\n",
       "    .dataframe tbody tr th:only-of-type {\n",
       "        vertical-align: middle;\n",
       "    }\n",
       "\n",
       "    .dataframe tbody tr th {\n",
       "        vertical-align: top;\n",
       "    }\n",
       "\n",
       "    .dataframe thead th {\n",
       "        text-align: right;\n",
       "    }\n",
       "</style>\n",
       "<table border=\"1\" class=\"dataframe\">\n",
       "  <thead>\n",
       "    <tr style=\"text-align: right;\">\n",
       "      <th></th>\n",
       "      <th>age</th>\n",
       "      <th>salary</th>\n",
       "      <th>num_reclama_sac</th>\n",
       "      <th>nota</th>\n",
       "    </tr>\n",
       "  </thead>\n",
       "  <tbody>\n",
       "    <tr>\n",
       "      <td>count</td>\n",
       "      <td>30000.000000</td>\n",
       "      <td>30000.000000</td>\n",
       "      <td>30000.000000</td>\n",
       "      <td>30000.000000</td>\n",
       "    </tr>\n",
       "    <tr>\n",
       "      <td>mean</td>\n",
       "      <td>37.371604</td>\n",
       "      <td>4996.017998</td>\n",
       "      <td>2.657333</td>\n",
       "      <td>6.827467</td>\n",
       "    </tr>\n",
       "    <tr>\n",
       "      <td>std</td>\n",
       "      <td>13.688106</td>\n",
       "      <td>495.608190</td>\n",
       "      <td>2.456308</td>\n",
       "      <td>2.850924</td>\n",
       "    </tr>\n",
       "    <tr>\n",
       "      <td>min</td>\n",
       "      <td>-35.903854</td>\n",
       "      <td>2958.551547</td>\n",
       "      <td>0.000000</td>\n",
       "      <td>0.000000</td>\n",
       "    </tr>\n",
       "    <tr>\n",
       "      <td>25%</td>\n",
       "      <td>32.534822</td>\n",
       "      <td>4658.836529</td>\n",
       "      <td>1.000000</td>\n",
       "      <td>6.000000</td>\n",
       "    </tr>\n",
       "    <tr>\n",
       "      <td>50%</td>\n",
       "      <td>38.497528</td>\n",
       "      <td>4996.171745</td>\n",
       "      <td>2.000000</td>\n",
       "      <td>7.000000</td>\n",
       "    </tr>\n",
       "    <tr>\n",
       "      <td>75%</td>\n",
       "      <td>48.538005</td>\n",
       "      <td>5330.621652</td>\n",
       "      <td>4.000000</td>\n",
       "      <td>9.000000</td>\n",
       "    </tr>\n",
       "    <tr>\n",
       "      <td>max</td>\n",
       "      <td>77.926736</td>\n",
       "      <td>6829.156644</td>\n",
       "      <td>9.000000</td>\n",
       "      <td>10.000000</td>\n",
       "    </tr>\n",
       "  </tbody>\n",
       "</table>\n",
       "</div>"
      ],
      "text/plain": [
       "                age        salary  num_reclama_sac          nota\n",
       "count  30000.000000  30000.000000     30000.000000  30000.000000\n",
       "mean      37.371604   4996.017998         2.657333      6.827467\n",
       "std       13.688106    495.608190         2.456308      2.850924\n",
       "min      -35.903854   2958.551547         0.000000      0.000000\n",
       "25%       32.534822   4658.836529         1.000000      6.000000\n",
       "50%       38.497528   4996.171745         2.000000      7.000000\n",
       "75%       48.538005   5330.621652         4.000000      9.000000\n",
       "max       77.926736   6829.156644         9.000000     10.000000"
      ]
     },
     "execution_count": 10,
     "metadata": {},
     "output_type": "execute_result"
    }
   ],
   "source": [
    "nps_df.describe()"
   ]
  },
  {
   "cell_type": "code",
   "execution_count": 11,
   "metadata": {},
   "outputs": [],
   "source": [
    "nps_df.to_csv(\"nps_df_clustering.csv\",index=False)"
   ]
  },
  {
   "cell_type": "code",
   "execution_count": null,
   "metadata": {},
   "outputs": [],
   "source": []
  }
 ],
 "metadata": {
  "kernelspec": {
   "display_name": "Python 3",
   "language": "python",
   "name": "python3"
  },
  "language_info": {
   "codemirror_mode": {
    "name": "ipython",
    "version": 3
   },
   "file_extension": ".py",
   "mimetype": "text/x-python",
   "name": "python",
   "nbconvert_exporter": "python",
   "pygments_lexer": "ipython3",
   "version": "3.7.4"
  }
 },
 "nbformat": 4,
 "nbformat_minor": 2
}
