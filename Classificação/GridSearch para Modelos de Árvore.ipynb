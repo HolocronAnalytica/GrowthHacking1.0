{
 "cells": [
  {
   "cell_type": "markdown",
   "metadata": {},
   "source": [
    "### Um bom gridsearch...\n",
    "...É aquele que melhora a performance do seu modelo, em um tempo de execução aceitável e regulariza para evitar overfitting. Em resumo: Goodfit e Rápido.\n",
    "\n",
    "Uma heurística  utilizada para o gridsearch é:\n",
    "- Se o valor escolhido estiver na borda da grade, monte outro grid naquela direção.\n",
    "    - ex: ```n_estimators = [3,5,10]```, Se o 10 for escolhido, podemos tentar novamente com ```n_estimators = [10,15,20]``` e verificar se a performance do modelo melhora.\n",
    "\n",
    "Para modelos de árvore:\n",
    "- Aumentar o n_estimators aumenta o tempo de execução. Fique atento ao tempo disponível.\n",
    "- Muitos dados (milhões)? Aumente o número de n_estimators. Poucos dados? Diminua.\n",
    "- max_depth: 1 de profundidade pode gerar regras não úteis, enquanto profundades muito altas podem gerar regras muito específicas.\n",
    "- min_samples_leaf: Utilize percentuais da base de treino, a não ser que queira um valor específico. Quanto menos dados tiver, maior o percentual nas folhas para evitar regras especificas!\n",
    "\n",
    "### Abaixo temos um template de um bom dicionário de hyperparametros inicial, faça bom uso!\n",
    "\n",
    "Nota: Para o exemplo abaixo, substitua ```df``` pelo seu conjunto de dados (DataFrame pandas)"
   ]
  },
  {
   "cell_type": "code",
   "execution_count": null,
   "metadata": {},
   "outputs": [],
   "source": [
    "dict_gridsearch = {\n",
    "            #Descomentar caso utilize Random Forests\n",
    "            #\"n_estimators\":[5,10,20], #Se tiver muitos dados (milhões), utilize algo como [50,100,200]\n",
    "    \n",
    "            #Para Decision Tree e Random Forests\n",
    "            \"max_depth\":[2,3,4] #Regular a profundidade das árvores. Mais de 5 pode ser muito profundo e 1 pode não ser útil\n",
    "            \"min_samples_leaf\": [int(df.shape[0]*0.01), #Pelo menos 1% da base nas folhas\n",
    "                                 int(df.shape[0]*0.05), #Pelo menos 5% da base nas folhas\n",
    "                                 int(df.shape[0]*0.1)] #Pelo menos 10% da base nas folhas\n",
    "          }"
   ]
  }
 ],
 "metadata": {
  "kernelspec": {
   "display_name": "Python 3",
   "language": "python",
   "name": "python3"
  },
  "language_info": {
   "codemirror_mode": {
    "name": "ipython",
    "version": 3
   },
   "file_extension": ".py",
   "mimetype": "text/x-python",
   "name": "python",
   "nbconvert_exporter": "python",
   "pygments_lexer": "ipython3",
   "version": "3.7.4"
  }
 },
 "nbformat": 4,
 "nbformat_minor": 2
}
